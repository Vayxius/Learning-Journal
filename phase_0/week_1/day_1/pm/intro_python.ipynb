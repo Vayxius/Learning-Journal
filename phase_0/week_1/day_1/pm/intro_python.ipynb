{
 "cells": [
  {
   "cell_type": "markdown",
   "metadata": {},
   "source": [
    "# Pengenalan Python"
   ]
  },
  {
   "cell_type": "code",
   "execution_count": 1,
   "metadata": {},
   "outputs": [
    {
     "name": "stdout",
     "output_type": "stream",
     "text": [
      "7\n"
     ]
    },
    {
     "data": {
      "text/plain": [
       "int"
      ]
     },
     "execution_count": 1,
     "metadata": {},
     "output_type": "execute_result"
    }
   ],
   "source": [
    "# numerik : integer, float, complex\n",
    "\n",
    "# Integer\n",
    "angka = 7\n",
    "print(angka)\n",
    "type(angka)"
   ]
  },
  {
   "cell_type": "code",
   "execution_count": 2,
   "metadata": {},
   "outputs": [
    {
     "name": "stdout",
     "output_type": "stream",
     "text": [
      "46\n"
     ]
    },
    {
     "data": {
      "text/plain": [
       "int"
      ]
     },
     "execution_count": 2,
     "metadata": {},
     "output_type": "execute_result"
    }
   ],
   "source": [
    "angka = 46\n",
    "print(angka)\n",
    "type(angka)"
   ]
  },
  {
   "cell_type": "code",
   "execution_count": 4,
   "metadata": {},
   "outputs": [
    {
     "name": "stdout",
     "output_type": "stream",
     "text": [
      "4.2\n"
     ]
    },
    {
     "data": {
      "text/plain": [
       "float"
      ]
     },
     "execution_count": 4,
     "metadata": {},
     "output_type": "execute_result"
    }
   ],
   "source": [
    "# tipe float\n",
    "\n",
    "angka_float = 4.2\n",
    "print(angka_float)\n",
    "type(angka_float)"
   ]
  },
  {
   "cell_type": "code",
   "execution_count": 5,
   "metadata": {},
   "outputs": [
    {
     "name": "stdout",
     "output_type": "stream",
     "text": [
      "(2+5j)\n"
     ]
    },
    {
     "data": {
      "text/plain": [
       "complex"
      ]
     },
     "execution_count": 5,
     "metadata": {},
     "output_type": "execute_result"
    }
   ],
   "source": [
    "# bilangan kompleks\n",
    "\n",
    "angka_kompleks = 2+5j\n",
    "print(angka_kompleks)\n",
    "type(angka_kompleks)"
   ]
  },
  {
   "cell_type": "code",
   "execution_count": 10,
   "metadata": {},
   "outputs": [
    {
     "name": "stdout",
     "output_type": "stream",
     "text": [
      "0.00047\n"
     ]
    }
   ],
   "source": [
    "angka = 4.7e-4\n",
    "print(angka)"
   ]
  },
  {
   "cell_type": "markdown",
   "metadata": {},
   "source": [
    "# String"
   ]
  },
  {
   "cell_type": "code",
   "execution_count": 12,
   "metadata": {},
   "outputs": [
    {
     "name": "stdout",
     "output_type": "stream",
     "text": [
      "Prince Zeroun Penzragon\n"
     ]
    },
    {
     "data": {
      "text/plain": [
       "str"
      ]
     },
     "execution_count": 12,
     "metadata": {},
     "output_type": "execute_result"
    }
   ],
   "source": [
    "# string  : sequence of char\n",
    "nama = \"Prince Zeroun Penzragon\"\n",
    "print(nama)\n",
    "type(nama)"
   ]
  },
  {
   "cell_type": "code",
   "execution_count": 17,
   "metadata": {},
   "outputs": [
    {
     "name": "stdout",
     "output_type": "stream",
     "text": [
      "Jum'at\n"
     ]
    }
   ],
   "source": [
    "hari = 'Jum\\'at'\n",
    "print(hari)"
   ]
  },
  {
   "cell_type": "code",
   "execution_count": 20,
   "metadata": {},
   "outputs": [
    {
     "name": "stdout",
     "output_type": "stream",
     "text": [
      "\n",
      "kamu dimana\n",
      "dimana, dimana\n",
      "dimana, dimana?\n"
     ]
    }
   ],
   "source": [
    "lirik = \"\"\"\n",
    "kamu dimana\n",
    "dimana, dimana\n",
    "dimana, dimana?\"\"\"\n",
    "print(lirik)"
   ]
  },
  {
   "cell_type": "code",
   "execution_count": 31,
   "metadata": {},
   "outputs": [
    {
     "name": "stdout",
     "output_type": "stream",
     "text": [
      "i\n",
      "o\n"
     ]
    }
   ],
   "source": [
    "# Selecting Char\n",
    "\n",
    "nama = \"Price Zeroun Penzragon\"\n",
    "print(nama[2])\n",
    "print(nama[-2])"
   ]
  },
  {
   "cell_type": "code",
   "execution_count": 35,
   "metadata": {},
   "outputs": [
    {
     "name": "stdout",
     "output_type": "stream",
     "text": [
      "Spider\n"
     ]
    }
   ],
   "source": [
    "# Slicing Char\n",
    "\n",
    "namamu = \"Spider-Man : No Way Home\"\n",
    "print(namamu[0:6:1])\n",
    "# 0 first index\n",
    "# 6 end index/step -1\n",
    "# 1 step"
   ]
  },
  {
   "cell_type": "code",
   "execution_count": 36,
   "metadata": {},
   "outputs": [
    {
     "name": "stdout",
     "output_type": "stream",
     "text": [
      "Nama kamu adalah : Spidekey dan usia kamu adalah 17\n"
     ]
    }
   ],
   "source": [
    "# String Formatting\n",
    "# f-string\n",
    "nama = \"Spidekey\"\n",
    "usia = 17\n",
    "print(f\"Nama kamu adalah : {nama} dan usia kamu adalah {usia}\")"
   ]
  },
  {
   "cell_type": "code",
   "execution_count": 39,
   "metadata": {},
   "outputs": [
    {
     "name": "stdout",
     "output_type": "stream",
     "text": [
      "Nama kamu adalah : Spidekey dan usia kamu adalah 17\n"
     ]
    }
   ],
   "source": [
    "print(\"Nama kamu adalah :\", nama, \"dan usia kamu adalah\", usia)"
   ]
  },
  {
   "cell_type": "markdown",
   "metadata": {},
   "source": [
    "# User Input Program"
   ]
  },
  {
   "cell_type": "code",
   "execution_count": 43,
   "metadata": {},
   "outputs": [
    {
     "name": "stdout",
     "output_type": "stream",
     "text": [
      "Nama kakmu adalah : wahyu\n",
      "Usia kamu adalah : 18\n"
     ]
    }
   ],
   "source": [
    "nama = input(\"Masukkan Nama Anda : \")\n",
    "usia = input(\"Masukkan usia Anda : \")\n",
    "print(f\"Nama kakmu adalah : {nama}\\nUsia kamu adalah : {usia}\")"
   ]
  },
  {
   "cell_type": "markdown",
   "metadata": {},
   "source": [
    "# Boolean"
   ]
  },
  {
   "cell_type": "code",
   "execution_count": 46,
   "metadata": {},
   "outputs": [
    {
     "name": "stdout",
     "output_type": "stream",
     "text": [
      "True\n",
      "<class 'bool'>\n"
     ]
    }
   ],
   "source": [
    "is_married = True\n",
    "print(is_married)\n",
    "print(type(is_married))"
   ]
  },
  {
   "cell_type": "code",
   "execution_count": 48,
   "metadata": {},
   "outputs": [
    {
     "name": "stdout",
     "output_type": "stream",
     "text": [
      "Wahyudin Wahyudin Wahyudin\n"
     ]
    }
   ],
   "source": [
    "# camel case\n",
    "namaLengkapPria = \"Wahyudin\" # class\n",
    "\n",
    "# pascal case\n",
    "NamaLengkapPria = \"Wahyudin\" # var\n",
    "\n",
    "# snake case\n",
    "nama_lengkap_pria = \"Wahyudin\" # var/function\n",
    "\n",
    "print(namaLengkapPria, NamaLengkapPria, nama_lengkap_pria)"
   ]
  },
  {
   "cell_type": "markdown",
   "metadata": {},
   "source": [
    "# Operasi"
   ]
  },
  {
   "cell_type": "code",
   "execution_count": 52,
   "metadata": {},
   "outputs": [
    {
     "name": "stdout",
     "output_type": "stream",
     "text": [
      "hasil penjumlahan     : 9\n",
      "hasil pengurangan     : 5\n",
      "hasil perkalian       : 14\n",
      "hasil pembagian       : 3.5\n",
      "hasil pembagian bulat : 3\n",
      "hasil modulus         : 1\n",
      "hasil pangkat         : 49\n"
     ]
    }
   ],
   "source": [
    "# operasi aritmatika\n",
    "angka_1 = 7\n",
    "angka_2 = 2\n",
    "\n",
    "print(f\"hasil penjumlahan     : {angka_1 + angka_2}\")\n",
    "print(f\"hasil pengurangan     : {angka_1 - angka_2}\")\n",
    "print(f\"hasil perkalian       : {angka_1 * angka_2}\")\n",
    "print(f\"hasil pembagian       : {angka_1 / angka_2}\")\n",
    "print(f\"hasil pembagian bulat : {angka_1 // angka_2}\")\n",
    "print(f\"hasil modulus         : {angka_1 % angka_2}\")\n",
    "print(f\"hasil pangkat         : {angka_1 ** angka_2}\")"
   ]
  },
  {
   "cell_type": "code",
   "execution_count": 56,
   "metadata": {},
   "outputs": [
    {
     "name": "stdout",
     "output_type": "stream",
     "text": [
      "Concatenation : Lalu Apa\n",
      "Repeating : LaluLaluLaluLaluLalu\n"
     ]
    }
   ],
   "source": [
    "# Concatenation (Penggabungan) & Repeating\n",
    "\n",
    "string_1 = \"Lalu\"\n",
    "string_2 = \"Apa\"\n",
    "\n",
    "print(f\"Concatenation : {string_1 + ' ' + string_2}\")\n",
    "print(f\"Repeating : {string_1 * 5}\")"
   ]
  },
  {
   "cell_type": "markdown",
   "metadata": {},
   "source": [
    "# Comparison Operator"
   ]
  },
  {
   "cell_type": "code",
   "execution_count": 58,
   "metadata": {},
   "outputs": [
    {
     "name": "stdout",
     "output_type": "stream",
     "text": [
      "10 == 8 (sama dengan)             : False\n",
      "10 != 8 (tidak sama dengan)       : True\n",
      "10 >= 8 (lebih besar sama dengan) : True\n",
      "10 <= 8 (lebih kecil sama dengan) : False\n"
     ]
    }
   ],
   "source": [
    "a = 10\n",
    "b = 8\n",
    "\n",
    "print(f\"{a} == {b} (sama dengan)             : {a == b}\")\n",
    "print(f\"{a} != {b} (tidak sama dengan)       : {a != b}\")\n",
    "print(f\"{a} >= {b} (lebih besar sama dengan) : {a >= b}\")\n",
    "print(f\"{a} <= {b} (lebih kecil sama dengan) : {a <= b}\")"
   ]
  },
  {
   "cell_type": "markdown",
   "metadata": {},
   "source": [
    "# String Manipulation"
   ]
  },
  {
   "cell_type": "code",
   "execution_count": 61,
   "metadata": {},
   "outputs": [],
   "source": [
    "name = \"Who am I?\""
   ]
  },
  {
   "cell_type": "code",
   "execution_count": 65,
   "metadata": {},
   "outputs": [
    {
     "name": "stdout",
     "output_type": "stream",
     "text": [
      "WHO AM I?\n",
      "who am i?\n",
      "Who am i?\n",
      "Who Am I?\n",
      "wHO AM i?\n"
     ]
    }
   ],
   "source": [
    "print(name.upper())\n",
    "print(name.lower())\n",
    "print(name.capitalize())\n",
    "print(name.title())\n",
    "print(name.swapcase())"
   ]
  },
  {
   "cell_type": "markdown",
   "metadata": {},
   "source": [
    "# Tipe Data Majemuk"
   ]
  },
  {
   "cell_type": "code",
   "execution_count": 66,
   "metadata": {},
   "outputs": [
    {
     "name": "stdout",
     "output_type": "stream",
     "text": [
      "<class 'tuple'>\n",
      "<class 'list'>\n"
     ]
    }
   ],
   "source": [
    "# list & tuple\n",
    "# tuple : immutable\n",
    "# list  : mutable\n",
    "\n",
    "my_tuple = (1, 2, 3.5, \"Zero\", True, (1,2,4))\n",
    "my_list = [1, 2, 3.5, \"Zero\", True, (1,2,4)]\n",
    "\n",
    "print(type(my_tuple))\n",
    "print(type(my_list))"
   ]
  },
  {
   "cell_type": "code",
   "execution_count": 67,
   "metadata": {},
   "outputs": [
    {
     "name": "stdout",
     "output_type": "stream",
     "text": [
      "6\n",
      "6\n"
     ]
    }
   ],
   "source": [
    "# Hitung data yang ada didalam tuple & list (string)\n",
    "print(len(my_tuple))\n",
    "print(len(my_list))"
   ]
  },
  {
   "cell_type": "code",
   "execution_count": 76,
   "metadata": {},
   "outputs": [
    {
     "name": "stdout",
     "output_type": "stream",
     "text": [
      "(1, 2, 3.5, 'Zero', True, (1, 2, 4))\n",
      "Zero\n",
      "(1, 2, 4)\n",
      "4\n",
      "(2, 3.5)\n"
     ]
    }
   ],
   "source": [
    "print(my_tuple)\n",
    "print(my_tuple[3])\n",
    "print(my_tuple[-1])\n",
    "print(my_tuple[-1][2])\n",
    "print(my_tuple[1:3]) # Slicing"
   ]
  },
  {
   "cell_type": "code",
   "execution_count": 77,
   "metadata": {},
   "outputs": [
    {
     "name": "stdout",
     "output_type": "stream",
     "text": [
      "(1, 2, 3.5, 'Zero', True, (1, 2, 4))\n",
      "[1, 2, 3.5, 'Zero', True, (1, 2, 4)]\n"
     ]
    }
   ],
   "source": [
    "print(my_tuple)\n",
    "print(my_list)"
   ]
  },
  {
   "cell_type": "markdown",
   "metadata": {},
   "source": [
    "# List Method"
   ]
  },
  {
   "cell_type": "code",
   "execution_count": 85,
   "metadata": {},
   "outputs": [
    {
     "name": "stdout",
     "output_type": "stream",
     "text": [
      "[1, 2, 3, 4, 5]\n",
      "[1, 2, 3, 4, 5, 10]\n"
     ]
    }
   ],
   "source": [
    "# append (menambah data pada list diakhir)\n",
    "a = [1, 2, 3, 4, 5]\n",
    "\n",
    "print(a)\n",
    "\n",
    "a.append(10)\n",
    "\n",
    "print(a)"
   ]
  },
  {
   "cell_type": "code",
   "execution_count": 80,
   "metadata": {},
   "outputs": [
    {
     "name": "stdout",
     "output_type": "stream",
     "text": [
      "[1, 2, 37, 3, 4, 5, 10]\n"
     ]
    }
   ],
   "source": [
    "# insert (menambah data setelah elemen atau sebelum)\n",
    "a.insert(2,37)\n",
    "\n",
    "print(a)"
   ]
  },
  {
   "cell_type": "code",
   "execution_count": 86,
   "metadata": {},
   "outputs": [
    {
     "name": "stdout",
     "output_type": "stream",
     "text": [
      "[1, 2, 3, 4, 5, 10]\n",
      "[1, 2, 3, 4, 5]\n"
     ]
    }
   ],
   "source": [
    "# menghapus data by data\n",
    "\n",
    "print(a)\n",
    "\n",
    "a.remove(10)\n",
    "\n",
    "print(a)\n"
   ]
  },
  {
   "cell_type": "code",
   "execution_count": 88,
   "metadata": {},
   "outputs": [
    {
     "name": "stdout",
     "output_type": "stream",
     "text": [
      "[1, 3, 4, 5]\n",
      "[1, 4, 5]\n"
     ]
    }
   ],
   "source": [
    "# del by position\n",
    "\n",
    "print(a)\n",
    "\n",
    "del a[1]\n",
    "\n",
    "print(a)"
   ]
  },
  {
   "cell_type": "markdown",
   "metadata": {},
   "source": [
    "# Dictionary"
   ]
  },
  {
   "cell_type": "code",
   "execution_count": 90,
   "metadata": {},
   "outputs": [
    {
     "name": "stdout",
     "output_type": "stream",
     "text": [
      "{'nama': 'Vay', 'usia': 18, 'pekerjaan': 'nganggur', 'company': 'Pt. Santai Berkualitas'}\n",
      "Vay\n",
      "nganggur\n"
     ]
    }
   ],
   "source": [
    "biodata = {'nama' : 'Vay',\n",
    "           'usia' : 18,\n",
    "           'pekerjaan' : 'nganggur',\n",
    "           'company' : 'Pt. Santai Berkualitas'}\n",
    "\n",
    "print(biodata)         \n",
    "print(biodata['nama'])  \n",
    "print(biodata['pekerjaan'])  "
   ]
  },
  {
   "cell_type": "code",
   "execution_count": null,
   "metadata": {},
   "outputs": [],
   "source": []
  }
 ],
 "metadata": {
  "interpreter": {
   "hash": "27f6fea6f47ae512550f0b8facdbd035a93e1dd89633f7bf2dd00a2502c71d0d"
  },
  "kernelspec": {
   "display_name": "Python 3.10.4 64-bit",
   "language": "python",
   "name": "python3"
  },
  "language_info": {
   "codemirror_mode": {
    "name": "ipython",
    "version": 3
   },
   "file_extension": ".py",
   "mimetype": "text/x-python",
   "name": "python",
   "nbconvert_exporter": "python",
   "pygments_lexer": "ipython3",
   "version": "3.10.4"
  },
  "orig_nbformat": 4
 },
 "nbformat": 4,
 "nbformat_minor": 2
}
